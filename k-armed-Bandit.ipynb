{
 "cells": [
  {
   "cell_type": "markdown",
   "metadata": {},
   "source": [
    "# $k$-armed Bandit"
   ]
  },
  {
   "cell_type": "markdown",
   "metadata": {},
   "source": [
    "## Notation\n",
    "$k:$ number of actions  <br>\n",
    "$t:$ discrete time step <br>\n",
    "$a:$ action <br>\n",
    "$A_t:$ action at time t <br>\n",
    "$q_*(a)$: true value (expected reward) of action a  <br>\n",
    "$Q_t(a):$ estimate at t of $q_*(a)$ <br>\n",
    "$N_t(a):$ number of times action a was performed (up to time t) <br>\n",
    "$R_t(a):$ reward at time t"
   ]
  },
  {
   "cell_type": "code",
   "execution_count": 325,
   "metadata": {
    "code_folding": [
     0
    ]
   },
   "outputs": [],
   "source": [
    "# Imports\n",
    "from __future__ import print_function\n",
    "from ipywidgets import interact, interactive, fixed, interact_manual\n",
    "import ipywidgets as widgets\n",
    "import numpy as np\n",
    "import matplotlib.pyplot as plt\n",
    "plt.style.use('seaborn')"
   ]
  },
  {
   "cell_type": "code",
   "execution_count": 316,
   "metadata": {
    "code_folding": [
     0
    ]
   },
   "outputs": [],
   "source": [
    "# Inits\n",
    "def k_arms_init(k):\n",
    "    Q_t = {'{}'.format(k+1): 0 for k in range(k)}\n",
    "    N_t = {'{}'.format(k+1): 0 for k in range(k)}\n",
    "    return Q_t, N_t \n",
    "\n",
    "def random_action(epsilon):\n",
    "    return (np.random.random() < epsilon)\n",
    "def sucess(probability):\n",
    "    return (np.random.random() < probability)\n",
    "    "
   ]
  },
  {
   "cell_type": "code",
   "execution_count": 327,
   "metadata": {
    "code_folding": [
     0
    ]
   },
   "outputs": [
    {
     "data": {
      "application/vnd.jupyter.widget-view+json": {
       "model_id": "bf20492c07874fda981f71285a71927b",
       "version_major": 2,
       "version_minor": 0
      },
      "text/plain": [
       "interactive(children=(IntSlider(value=5, description='k', max=10, min=1), IntSlider(value=4901, description='N…"
      ]
     },
     "metadata": {},
     "output_type": "display_data"
    }
   ],
   "source": [
    "# Interactive k-armed bandit plot\n",
    "@interact(k = (1,10,1), N = (1,10000,100), epsilon = (0.01,0.5,0.05))\n",
    "def k_armed_bandit(k,N,epsilon):\n",
    "    np.random.seed(123)\n",
    "    Q_t, N_t = k_arms_init(k)\n",
    "    sucess_prob = [0.10, 0.50, 0.60, 0.80, 0.10, 0.25, 0.60, 0.45, 0.75, 0.65]\n",
    "\n",
    "    for i in range(N):\n",
    "        if random_action(epsilon) is True: #  Choose a random action\n",
    "            idx = int(np.random.randint(low=1,high=k+1,size=1))\n",
    "\n",
    "        else:  #  Choose the action with max reward\n",
    "            idx = int(max(Q_t, key=Q_t.get))\n",
    "\n",
    "        N_t['{}'.format(idx)] += 1\n",
    "        Q_t['{}'.format(idx)] += (1/N_t['{}'.format(idx)])*(1*sucess(sucess_prob[idx-1])-Q_t['{}'.format(idx)])\n",
    "\n",
    "    for key,value in zip(Q_t.keys(), Q_t.values()):\n",
    "        plt.scatter(key,value, c='k')\n",
    "    plt.scatter(range(k),sucess_prob[:k], marker='x', label='True success Pr')\n",
    "    plt.xlabel('Actions')\n",
    "    plt.ylabel('Reward')\n",
    "    plt.ylim(0,1)\n",
    "    plt.legend()\n",
    "    plt.show()        \n"
   ]
  },
  {
   "cell_type": "code",
   "execution_count": null,
   "metadata": {},
   "outputs": [],
   "source": []
  }
 ],
 "metadata": {
  "kernelspec": {
   "display_name": "Python 3",
   "language": "python",
   "name": "python3"
  },
  "language_info": {
   "codemirror_mode": {
    "name": "ipython",
    "version": 3
   },
   "file_extension": ".py",
   "mimetype": "text/x-python",
   "name": "python",
   "nbconvert_exporter": "python",
   "pygments_lexer": "ipython3",
   "version": "3.6.6"
  }
 },
 "nbformat": 4,
 "nbformat_minor": 2
}

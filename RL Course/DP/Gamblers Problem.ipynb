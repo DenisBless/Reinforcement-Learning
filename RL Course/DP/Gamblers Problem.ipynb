{
 "cells": [
  {
   "cell_type": "markdown",
   "metadata": {
    "collapsed": true
   },
   "source": [
    "### This is Example 4.3. Gambler’s Problem from Sutton's book.\n",
    "\n",
    "A gambler has the opportunity to make bets on the outcomes of a sequence of coin flips. \n",
    "If the coin comes up heads, he wins as many dollars as he has staked on that flip; \n",
    "if it is tails, he loses his stake. The game ends when the gambler wins by reaching his goal of $100, \n",
    "or loses by running out of money. \n",
    "\n",
    "On each flip, the gambler must decide what portion of his capital to stake, in integer numbers of dollars. \n",
    "This problem can be formulated as an undiscounted, episodic, finite MDP. \n",
    "\n",
    "The state is the gambler’s capital, s ∈ {1, 2, . . . , 99}.\n",
    "The actions are stakes, a ∈ {0, 1, . . . , min(s, 100 − s)}. \n",
    "The reward is zero on all transitions except those on which the gambler reaches his goal, when it is +1.\n",
    "\n",
    "The state-value function then gives the probability of winning from each state. A policy is a mapping from levels of capital to stakes. The optimal policy maximizes the probability of reaching the goal. Let p_h denote the probability of the coin coming up heads. If p_h is known, then the entire problem is known and it can be solved, for instance, by value iteration.\n"
   ]
  },
  {
   "cell_type": "code",
   "execution_count": 62,
   "metadata": {},
   "outputs": [],
   "source": [
    "import numpy as np\n",
    "import sys\n",
    "import matplotlib.pyplot as plt\n",
    "if \"../\" not in sys.path:\n",
    "  sys.path.append(\"../\") "
   ]
  },
  {
   "cell_type": "markdown",
   "metadata": {
    "collapsed": true
   },
   "source": [
    "\n",
    "### Exercise 4.9 (programming)\n",
    "\n",
    "Implement value iteration for the gambler’s problem and solve it for p_h = 0.25 and p_h = 0.55.\n",
    "\n"
   ]
  },
  {
   "cell_type": "code",
   "execution_count": 117,
   "metadata": {},
   "outputs": [],
   "source": [
    "def value_iteration_for_gamblers(p_h, theta=0.000001, discount_factor=1.0):\n",
    "    \"\"\"\n",
    "    Args:\n",
    "      p_h: Probability of the coin coming up heads\n",
    "    \"\"\"\n",
    "    V = np.zeros(101)\n",
    "\n",
    "#    while True:\n",
    "    for k in range(10000):\n",
    "\n",
    "        policy = np.zeros(100)\n",
    "        v = np.copy(V)\n",
    "\n",
    "        for s in range(1,100):  # Loop over states\n",
    "\n",
    "            possible_actions = np.zeros(np.min((s, 100 - s))+1)\n",
    "            for a in range(possible_actions.size):  # Loop over all actions (stakes)\n",
    "                rewards = p_h * ((s + a) == 100)\n",
    "            \n",
    "                next_states = (1 - p_h) * V[s - a] \n",
    "                next_states += p_h * V[s + a] if (s+a) < 100 else 0\n",
    "\n",
    "                possible_actions[a] = rewards + discount_factor * next_states\n",
    "\n",
    "\n",
    "            best_action_value, best_action = np.max(possible_actions), np.argmax(possible_actions)\n",
    "            V[s] = best_action_value\n",
    "\n",
    "            policy[s] = best_action\n",
    "\n",
    "\n",
    "        #Break if 'finished'\n",
    "    \n",
    "        delta = np.linalg.norm(v - V)\n",
    "        #print(delta)\n",
    "        if delta < theta and delta != 0:\n",
    "            break\n",
    "    return policy, V"
   ]
  },
  {
   "cell_type": "code",
   "execution_count": 118,
   "metadata": {},
   "outputs": [
    {
     "name": "stdout",
     "output_type": "stream",
     "text": [
      "Optimized Policy:\n",
      "[ 0.  1.  0.  3.  0.  5.  0.  7.  8.  9. 10. 11. 12. 12. 11. 15.  9.  8.\n",
      " 18.  6.  5.  4.  3.  2.  1.  0.  0.  0.  0.  4.  5.  6. 32.  8.  9. 15.\n",
      " 11. 12.  0.  0. 10.  9.  8.  7.  0.  5.  4.  0.  2.  1.  0.  0.  0.  0.\n",
      "  4. 45.  6.  7.  8.  9. 40. 39. 12.  0.  0. 10.  9.  8.  7.  0. 20.  4.\n",
      "  0. 27.  1.  0.  0.  2.  3.  4.  5.  6.  0.  8.  9. 10.  0. 13.  0. 11.\n",
      " 10.  0.  8.  0.  0.  5.  4.  0.  2.  1.]\n",
      "\n",
      "Optimized Value Function:\n",
      "[0.         0.00206562 0.00516406 0.00922547 0.01291015 0.01738539\n",
      " 0.02306366 0.0278141  0.03227537 0.03768505 0.04346349 0.05035447\n",
      " 0.05765919 0.06523937 0.06953528 0.07443123 0.08068846 0.08661103\n",
      " 0.09421268 0.10314362 0.10865874 0.11596662 0.12588617 0.13357997\n",
      " 0.14414798 0.16       0.16309844 0.16774609 0.1738382  0.17936522\n",
      " 0.18607809 0.19459551 0.20172117 0.20841308 0.21652761 0.22519524\n",
      " 0.2355317  0.24648879 0.25785906 0.26430292 0.27164686 0.2810327\n",
      " 0.28991656 0.30131902 0.31471544 0.32298811 0.33394994 0.34882926\n",
      " 0.36036996 0.37622198 0.4        0.40309844 0.40774609 0.4138382\n",
      " 0.41936522 0.42607809 0.43459551 0.44172117 0.44841308 0.45652761\n",
      " 0.46519524 0.4755317  0.48648879 0.49785906 0.50430292 0.51164686\n",
      " 0.5210327  0.52991656 0.54131902 0.55471544 0.56298811 0.57394994\n",
      " 0.58882926 0.60036996 0.61622198 0.64       0.64464765 0.65161913\n",
      " 0.66075731 0.66904785 0.67911715 0.69189327 0.70258175 0.71261962\n",
      " 0.72479141 0.73779287 0.75329756 0.76973319 0.78678859 0.79645439\n",
      " 0.80747029 0.82154905 0.83487485 0.85197853 0.87207316 0.88448217\n",
      " 0.90092491 0.92324389 0.94055495 0.96433297 0.        ]\n",
      "\n"
     ]
    }
   ],
   "source": [
    "policy, v = value_iteration_for_gamblers(0.4)\n",
    "\n",
    "print(\"Optimized Policy:\")\n",
    "print(policy)\n",
    "print(\"\")\n",
    "\n",
    "print(\"Optimized Value Function:\")\n",
    "print(v)\n",
    "print(\"\")"
   ]
  },
  {
   "cell_type": "code",
   "execution_count": 119,
   "metadata": {},
   "outputs": [
    {
     "data": {
      "image/png": "[encoded data removed]",
      "text/plain": [
       "<Figure size 432x288 with 1 Axes>"
      ]
     },
     "metadata": {
      "needs_background": "light"
     },
     "output_type": "display_data"
    }
   ],
   "source": [
    "# Plotting Final Policy (action stake) vs State (Capital)\n",
    "\n",
    "# plotting the points \n",
    "plt.plot(np.arange(v[:-1].size), v[:-1])\n",
    " \n",
    "# naming the x axis\n",
    "plt.xlabel('Capital')\n",
    "# naming the y axis\n",
    "plt.ylabel('Value Estimates')\n",
    " \n",
    "# giving a title to the graph\n",
    "plt.title('Final Policy (action stake) vs State (Capital)')\n",
    " \n",
    "# function to show the plot\n",
    "plt.show()"
   ]
  },
  {
   "cell_type": "code",
   "execution_count": 120,
   "metadata": {
    "scrolled": true
   },
   "outputs": [
    {
     "data": {
      "image/png": "[encoded data removed]",
      "text/plain": [
       "<Figure size 432x288 with 1 Axes>"
      ]
     },
     "metadata": {
      "needs_background": "light"
     },
     "output_type": "display_data"
    }
   ],
   "source": [
    "# Plotting Capital vs Final Policy\n",
    " \n",
    "# plotting the bars\n",
    "plt.bar(np.arange(policy.size), policy, align='center')\n",
    " \n",
    "# naming the x axis\n",
    "plt.xlabel('Capital')\n",
    "# naming the y axis\n",
    "plt.ylabel('Final policy (stake)')\n",
    " \n",
    "# giving a title to the graph\n",
    "plt.title('Capital vs Final Policy')\n",
    " \n",
    "# function to show the plot\n",
    "plt.show()\n"
   ]
  },
  {
   "cell_type": "code",
   "execution_count": null,
   "metadata": {},
   "outputs": [],
   "source": []
  }
 ],
 "metadata": {
  "kernelspec": {
   "display_name": "Python 3",
   "language": "python",
   "name": "python3"
  },
  "language_info": {
   "codemirror_mode": {
    "name": "ipython",
    "version": 3
   },
   "file_extension": ".py",
   "mimetype": "text/x-python",
   "name": "python",
   "nbconvert_exporter": "python",
   "pygments_lexer": "ipython3",
   "version": "3.6.6"
  }
 },
 "nbformat": 4,
 "nbformat_minor": 1
}
